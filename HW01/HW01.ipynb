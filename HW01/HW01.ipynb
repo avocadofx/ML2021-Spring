{
  "nbformat": 4,
  "nbformat_minor": 0,
  "metadata": {
    "colab": {
      "name": "ML2021Spring - HW1.ipynb",
      "provenance": [],
      "toc_visible": true,
      "include_colab_link": true
    },
    "kernelspec": {
      "name": "python3",
      "display_name": "Python 3"
    },
    "accelerator": "GPU"
  },
  "cells": [
    {
      "cell_type": "markdown",
      "metadata": {
        "id": "view-in-github",
        "colab_type": "text"
      },
      "source": [
        "<a href=\"https://colab.research.google.com/github/avocadofx/ML2021-Spring/blob/Development_Regression/HW01/HW01.ipynb\" target=\"_parent\"><img src=\"https://colab.research.google.com/assets/colab-badge.svg\" alt=\"Open In Colab\"/></a>"
      ]
    },
    {
      "cell_type": "markdown",
      "metadata": {
        "id": "mz0_QVkxCrX3"
      },
      "source": [
        "# **Homework 1: COVID-19 Cases Prediction (Regression)**"
      ]
    },
    {
      "cell_type": "markdown",
      "metadata": {
        "id": "ZeZnPAiwDRWG"
      },
      "source": [
        "Author: Heng-Jui Chang\n",
        "\n",
        "Slides: https://github.com/ga642381/ML2021-Spring/blob/main/HW01/HW01.pdf  \n",
        "Videos (Mandarin): https://cool.ntu.edu.tw/courses/4793/modules/items/172854  \n",
        "https://cool.ntu.edu.tw/courses/4793/modules/items/172853  \n",
        "Video (English): https://cool.ntu.edu.tw/courses/4793/modules/items/176529\n",
        "\n",
        "\n",
        "Objectives:\n",
        "* Solve a regression problem with deep neural networks (DNN).\n",
        "* Understand basic DNN training tips.\n",
        "* Get familiar with PyTorch.\n",
        "\n",
        "If any questions, please contact the TAs via TA hours, NTU COOL, or email.\n"
      ]
    },
    {
      "cell_type": "markdown",
      "metadata": {
        "id": "Jx3x1nDkG-Uy"
      },
      "source": [
        "# **Download Data**\n",
        "\n",
        "\n",
        "If the Google drive links are dead, you can download data from [kaggle](https://www.kaggle.com/c/ml2021spring-hw1/data), and upload data manually to the workspace."
      ]
    },
    {
      "cell_type": "code",
      "metadata": {
        "colab": {
          "base_uri": "https://localhost:8080/"
        },
        "id": "tMj55YDKG6ch",
        "outputId": "dcbf4ffc-4551-4e70-9872-d4fd7df48576"
      },
      "source": [
        "tr_path = 'covid.train.csv'  # path to training data\n",
        "tt_path = 'covid.test.csv'   # path to testing data\n",
        "\n",
        "!gdown --id '19CCyCgJrUxtvgZF53vnctJiOJ23T5mqF' --output covid.train.csv\n",
        "!gdown --id '1CE240jLm2npU-tdz81-oVKEF3T2yfT1O' --output covid.test.csv"
      ],
      "execution_count": 7,
      "outputs": [
        {
          "output_type": "stream",
          "name": "stdout",
          "text": [
            "/usr/local/lib/python3.10/dist-packages/gdown/cli.py:121: FutureWarning: Option `--id` was deprecated in version 4.3.1 and will be removed in 5.0. You don't need to pass it anymore to use a file ID.\n",
            "  warnings.warn(\n",
            "Downloading...\n",
            "From: https://drive.google.com/uc?id=19CCyCgJrUxtvgZF53vnctJiOJ23T5mqF\n",
            "To: /content/covid.train.csv\n",
            "100% 2.00M/2.00M [00:00<00:00, 178MB/s]\n",
            "/usr/local/lib/python3.10/dist-packages/gdown/cli.py:121: FutureWarning: Option `--id` was deprecated in version 4.3.1 and will be removed in 5.0. You don't need to pass it anymore to use a file ID.\n",
            "  warnings.warn(\n",
            "Downloading...\n",
            "From: https://drive.google.com/uc?id=1CE240jLm2npU-tdz81-oVKEF3T2yfT1O\n",
            "To: /content/covid.test.csv\n",
            "100% 651k/651k [00:00<00:00, 141MB/s]\n"
          ]
        }
      ]
    },
    {
      "cell_type": "markdown",
      "metadata": {
        "id": "wS_4-77xHk44"
      },
      "source": [
        "# **Import Some Packages**"
      ]
    },
    {
      "cell_type": "code",
      "metadata": {
        "id": "k-onQd4JNA5H"
      },
      "source": [
        "# PyTorch\n",
        "import torch\n",
        "import torch.nn as nn\n",
        "from torch.utils.data import Dataset, DataLoader\n",
        "\n",
        "# For data preprocess\n",
        "import numpy as np\n",
        "import csv\n",
        "import os\n",
        "\n",
        "# For plotting\n",
        "import matplotlib.pyplot as plt\n",
        "from matplotlib.pyplot import figure\n",
        "\n",
        "myseed = 42069  # set a random seed for reproducibility\n",
        "torch.backends.cudnn.deterministic = True\n",
        "torch.backends.cudnn.benchmark = False\n",
        "np.random.seed(myseed)\n",
        "torch.manual_seed(myseed)\n",
        "if torch.cuda.is_available():\n",
        "    torch.cuda.manual_seed_all(myseed)"
      ],
      "execution_count": 8,
      "outputs": []
    },
    {
      "cell_type": "markdown",
      "metadata": {
        "id": "BtE3b6JEH7rw"
      },
      "source": [
        "# **Some Utilities**\n",
        "\n",
        "You do not need to modify this part."
      ]
    },
    {
      "cell_type": "code",
      "metadata": {
        "id": "FWMT3uf1NGQp"
      },
      "source": [
        "def get_device():\n",
        "    ''' Get device (if GPU is available, use GPU) '''\n",
        "    return 'cuda' if torch.cuda.is_available() else 'cpu'\n",
        "\n",
        "def plot_learning_curve(loss_record, title=''):\n",
        "    ''' Plot learning curve of your DNN (train & dev loss) '''\n",
        "    total_steps = len(loss_record['train'])\n",
        "    x_1 = range(total_steps)\n",
        "    x_2 = x_1[::len(loss_record['train']) // len(loss_record['dev'])]\n",
        "    figure(figsize=(6, 4))\n",
        "    plt.plot(x_1, loss_record['train'], c='tab:red', label='train')\n",
        "    plt.plot(x_2, loss_record['dev'], c='tab:cyan', label='dev')\n",
        "    plt.ylim(0.0, 5.)\n",
        "    plt.xlabel('Training steps')\n",
        "    plt.ylabel('MSE loss')\n",
        "    plt.title('Learning curve of {}'.format(title))\n",
        "    plt.legend()\n",
        "    plt.show()\n",
        "\n",
        "\n",
        "def plot_pred(dv_set, model, device, lim=35., preds=None, targets=None):\n",
        "    ''' Plot prediction of your DNN '''\n",
        "    if preds is None or targets is None:\n",
        "        model.eval()\n",
        "        preds, targets = [], []\n",
        "        for x, y in dv_set:\n",
        "            x, y = x.to(device), y.to(device)\n",
        "            with torch.no_grad():\n",
        "                pred = model(x)\n",
        "                preds.append(pred.detach().cpu())\n",
        "                targets.append(y.detach().cpu())\n",
        "        preds = torch.cat(preds, dim=0).numpy()\n",
        "        targets = torch.cat(targets, dim=0).numpy()\n",
        "\n",
        "    figure(figsize=(5, 5))\n",
        "    plt.scatter(targets, preds, c='r', alpha=0.5)\n",
        "    plt.plot([-0.2, lim], [-0.2, lim], c='b')\n",
        "    plt.xlim(-0.2, lim)\n",
        "    plt.ylim(-0.2, lim)\n",
        "    plt.xlabel('ground truth value')\n",
        "    plt.ylabel('predicted value')\n",
        "    plt.title('Ground Truth v.s. Prediction')\n",
        "    plt.show()"
      ],
      "execution_count": 9,
      "outputs": []
    },
    {
      "cell_type": "markdown",
      "metadata": {
        "id": "39U_XFX6KOoj"
      },
      "source": [
        "# **Preprocess**\n",
        "\n",
        "We have three kinds of datasets:\n",
        "* `train`: for training\n",
        "* `dev`: for validation\n",
        "* `test`: for testing (w/o target value)"
      ]
    },
    {
      "cell_type": "markdown",
      "metadata": {
        "id": "TQ-MdwpLL7Dt"
      },
      "source": [
        "## **Dataset**\n",
        "\n",
        "The `COVID19Dataset` below does:\n",
        "* read `.csv` files\n",
        "* extract features\n",
        "* split `covid.train.csv` into train/dev sets\n",
        "* normalize features\n",
        "\n",
        "Finishing `TODO` below might make you pass medium baseline."
      ]
    },
    {
      "cell_type": "code",
      "metadata": {
        "id": "0zlpIp9ANJRU"
      },
      "source": [
        "class COVID19Dataset(Dataset):\n",
        "    ''' Dataset for loading and preprocessing the COVID19 dataset '''\n",
        "    def __init__(self,\n",
        "                 path,\n",
        "                 mode='train',\n",
        "                 target_only=False):\n",
        "        self.mode = mode\n",
        "\n",
        "        # Read data into numpy arrays\n",
        "        with open(path, 'r') as fp:\n",
        "            data = list(csv.reader(fp))\n",
        "            data = np.array(data[1:])[:, 1:].astype(float)\n",
        "        # feats (0-92)\n",
        "        if not target_only:\n",
        "            feats = list(range(93))\n",
        "        else:\n",
        "            # TODO: Using 40 states & 2 tested_positive features (indices = 57 & 75)\n",
        "            feats = list(range(40)) + [57, 75]\n",
        "            #pass\n",
        "\n",
        "        if mode == 'test':\n",
        "            # Testing data\n",
        "            # data: 893 x 93 (40 states + day 1 (18) + day 2 (18) + day 3 (17))\n",
        "            data = data[:, feats]\n",
        "            self.data = torch.FloatTensor(data)\n",
        "        else:\n",
        "            # Training data (train/dev sets)\n",
        "            # data: 2700 x 94 (40 states + day 1 (18) + day 2 (18) + day 3 (18))\n",
        "            target = data[:, -1]\n",
        "            data = data[:, feats]\n",
        "\n",
        "            # Splitting training data into train & dev sets (This is the 10% validation for Train and Validation )\n",
        "            if mode == 'train':\n",
        "                indices = [i for i in range(len(data)) if i % 10 != 0]\n",
        "            elif mode == 'dev':\n",
        "                indices = [i for i in range(len(data)) if i % 10 == 0]\n",
        "\n",
        "            # Convert data into PyTorch tensors\n",
        "            self.data = torch.FloatTensor(data[indices])\n",
        "            self.target = torch.FloatTensor(target[indices])\n",
        "\n",
        "        # Normalize features (you may remove this part to see what will happen) for column 40 above do the Z-normalization( a mean of 0 and a standard deviation of 1 for each column.)\n",
        "        self.data[:, 40:] = \\\n",
        "            (self.data[:, 40:] - self.data[:, 40:].mean(dim=0, keepdim=True)) \\\n",
        "            / self.data[:, 40:].std(dim=0, keepdim=True)\n",
        "\n",
        "        self.dim = self.data.shape[1]\n",
        "        print('Finished reading the {} set of COVID19 Dataset ({} samples found, each dim = {})'\n",
        "              .format(mode, len(self.data), self.dim))\n",
        "\n",
        "    def __getitem__(self, index):\n",
        "        # Returns one sample at a time\n",
        "        if self.mode in ['train', 'dev']:\n",
        "            # For training\n",
        "            return self.data[index], self.target[index]\n",
        "        else:\n",
        "            # For testing (no target)\n",
        "            return self.data[index]\n",
        "\n",
        "    def __len__(self):\n",
        "        # Returns the size of the dataset\n",
        "        return len(self.data)"
      ],
      "execution_count": 69,
      "outputs": []
    },
    {
      "cell_type": "markdown",
      "metadata": {
        "id": "AlhTlkE7MDo3"
      },
      "source": [
        "## **DataLoader**\n",
        "\n",
        "A `DataLoader` loads data from a given `Dataset` into batches.\n"
      ]
    },
    {
      "cell_type": "code",
      "metadata": {
        "id": "hlhLk5t6MBX3"
      },
      "source": [
        "def prep_dataloader(path, mode, batch_size, n_jobs=0, target_only=False):\n",
        "    ''' Generates a dataset, then is put into a dataloader. '''\n",
        "    dataset = COVID19Dataset(path, mode=mode, target_only=target_only)  # Construct dataset\n",
        "    dataloader = DataLoader(\n",
        "        dataset, batch_size,\n",
        "        shuffle=(mode == 'train'), drop_last=False,\n",
        "        num_workers=n_jobs, pin_memory=True)                            # Construct dataloader\n",
        "    return dataloader"
      ],
      "execution_count": 70,
      "outputs": []
    },
    {
      "cell_type": "markdown",
      "metadata": {
        "id": "SGuycwR0MeQB"
      },
      "source": [
        "# **Deep Neural Network**\n",
        "\n",
        "`NeuralNet` is an `nn.Module` designed for regression.\n",
        "The DNN consists of 2 fully-connected layers with ReLU activation.\n",
        "This module also included a function `cal_loss` for calculating loss.\n"
      ]
    },
    {
      "cell_type": "code",
      "metadata": {
        "id": "49-uXYovOAI0"
      },
      "source": [
        "class NeuralNet(nn.Module):\n",
        "    ''' A simple fully-connected deep neural network '''\n",
        "    def __init__(self, input_dim):\n",
        "        super(NeuralNet, self).__init__()\n",
        "\n",
        "        # Define your neural network here\n",
        "        # TODO: How to modify this model to achieve better performance?\n",
        "        self.net = nn.Sequential(\n",
        "            nn.Linear(input_dim, 64),\n",
        "            nn.ReLU(),\n",
        "            nn.Linear(64, 1)\n",
        "        )\n",
        "\n",
        "        # Mean squared error loss\n",
        "        self.criterion = nn.MSELoss(reduction='mean')\n",
        "\n",
        "    def forward(self, x):\n",
        "        ''' Given input of size (batch_size x input_dim), compute output of the network '''\n",
        "        return self.net(x).squeeze(1)\n",
        "\n",
        "    def cal_loss(self, pred, target):\n",
        "        ''' Calculate loss '''\n",
        "        # TODO: you may implement L1/L2 regularization here\n",
        "        return self.criterion(pred, target)"
      ],
      "execution_count": 12,
      "outputs": []
    },
    {
      "cell_type": "markdown",
      "metadata": {
        "id": "DvFWVjZ5Nvga"
      },
      "source": [
        "# **Train/Dev/Test**"
      ]
    },
    {
      "cell_type": "markdown",
      "metadata": {
        "id": "MAM8QecJOyqn"
      },
      "source": [
        "## **Training**"
      ]
    },
    {
      "cell_type": "code",
      "metadata": {
        "id": "lOqcmYzMO7jB"
      },
      "source": [
        "def train(tr_set, dv_set, model, config, device):\n",
        "    ''' DNN training '''\n",
        "\n",
        "    n_epochs = config['n_epochs']  # Maximum number of epochs\n",
        "\n",
        "    # Setup optimizer\n",
        "    optimizer = getattr(torch.optim, config['optimizer'])(\n",
        "        model.parameters(), **config['optim_hparas'])\n",
        "\n",
        "    min_mse = 1000.\n",
        "    loss_record = {'train': [], 'dev': []}      # for recording training loss\n",
        "    early_stop_cnt = 0\n",
        "    epoch = 0\n",
        "    while epoch < n_epochs:\n",
        "        model.train()                           # set model to training mode\n",
        "        for x, y in tr_set:                     # iterate through the dataloader\n",
        "            optimizer.zero_grad()               # set gradient to zero\n",
        "            x, y = x.to(device), y.to(device)   # move data to device (cpu/cuda)\n",
        "            pred = model(x)                     # forward pass (compute output)\n",
        "            mse_loss = model.cal_loss(pred, y)  # compute loss\n",
        "            mse_loss.backward()                 # compute gradient (backpropagation)\n",
        "            optimizer.step()                    # update model with optimizer\n",
        "            loss_record['train'].append(mse_loss.detach().cpu().item())\n",
        "\n",
        "        # After each epoch, test your model on the validation (development) set.\n",
        "        dev_mse = dev(dv_set, model, device)\n",
        "        if dev_mse < min_mse:\n",
        "            # Save model if your model improved\n",
        "            min_mse = dev_mse\n",
        "            print('Saving model (epoch = {:4d}, loss = {:.4f})'\n",
        "                .format(epoch + 1, min_mse))\n",
        "            torch.save(model.state_dict(), config['save_path'])  # Save model to specified path\n",
        "            early_stop_cnt = 0\n",
        "        else:\n",
        "            early_stop_cnt += 1\n",
        "\n",
        "        epoch += 1\n",
        "        loss_record['dev'].append(dev_mse)\n",
        "        if early_stop_cnt > config['early_stop']:\n",
        "            # Stop training if your model stops improving for \"config['early_stop']\" epochs.\n",
        "            break\n",
        "\n",
        "    print('Finished training after {} epochs'.format(epoch))\n",
        "    return min_mse, loss_record"
      ],
      "execution_count": 13,
      "outputs": []
    },
    {
      "cell_type": "markdown",
      "metadata": {
        "id": "0hSd4Bn3O2PL"
      },
      "source": [
        "## **Validation**"
      ]
    },
    {
      "cell_type": "code",
      "metadata": {
        "id": "yrxrD3YsN3U2"
      },
      "source": [
        "def dev(dv_set, model, device):\n",
        "    model.eval()                                # set model to evalutation mode\n",
        "    total_loss = 0\n",
        "    for x, y in dv_set:                         # iterate through the dataloader\n",
        "        x, y = x.to(device), y.to(device)       # move data to device (cpu/cuda)\n",
        "        with torch.no_grad():                   # disable gradient calculation\n",
        "            pred = model(x)                     # forward pass (compute output)\n",
        "            mse_loss = model.cal_loss(pred, y)  # compute loss\n",
        "        total_loss += mse_loss.detach().cpu().item() * len(x)  # accumulate loss\n",
        "    total_loss = total_loss / len(dv_set.dataset)              # compute averaged loss\n",
        "\n",
        "    return total_loss"
      ],
      "execution_count": 14,
      "outputs": []
    },
    {
      "cell_type": "markdown",
      "metadata": {
        "id": "g0pdrhQAO41L"
      },
      "source": [
        "## **Testing**"
      ]
    },
    {
      "cell_type": "code",
      "metadata": {
        "id": "aSBMRFlYN5tB"
      },
      "source": [
        "def test(tt_set, model, device):\n",
        "    model.eval()                                # set model to evalutation mode\n",
        "    preds = []\n",
        "    for x in tt_set:                            # iterate through the dataloader\n",
        "        x = x.to(device)                        # move data to device (cpu/cuda)\n",
        "        with torch.no_grad():                   # disable gradient calculation\n",
        "            pred = model(x)                     # forward pass (compute output)\n",
        "            preds.append(pred.detach().cpu())   # collect prediction\n",
        "    preds = torch.cat(preds, dim=0).numpy()     # concatenate all predictions and convert to a numpy array\n",
        "    return preds"
      ],
      "execution_count": 15,
      "outputs": []
    },
    {
      "cell_type": "markdown",
      "metadata": {
        "id": "SvckkF5dvf0j"
      },
      "source": [
        "# **Setup Hyper-parameters**\n",
        "\n",
        "`config` contains hyper-parameters for training and the path to save your model."
      ]
    },
    {
      "cell_type": "code",
      "metadata": {
        "id": "NPXpdumwPjE7"
      },
      "source": [
        "device = get_device()                 # get the current available device ('cpu' or 'cuda')\n",
        "os.makedirs('models', exist_ok=True)  # The trained model will be saved to ./models/\n",
        "# target_only = False                   # TODO: Using 40 states & 2 tested_positive features\n",
        "target_only = True                   # TODO: Using 40 states & 2 tested_positive features\n",
        "# TODO: How to tune these hyper-parameters to improve your model's performance?\n",
        "config = {\n",
        "    'n_epochs': 3000,                # maximum number of epochs\n",
        "    'batch_size': 128,               # mini-batch size for dataloader\n",
        "    'optimizer': 'Adam',              # optimization algorithm (optimizer in torch.optim)\n",
        "    'optim_hparas': {                # hyper-parameters for the optimizer (depends on which optimizer you are using)\n",
        "        'lr': 0.001,                 # learning rate of SGD\n",
        "        #'momentum': 0.9              # momentum for SGD\n",
        "    },\n",
        "    'early_stop': 200,               # early stopping epochs (the number epochs since your model's last improvement)\n",
        "    'save_path': 'models/model.pth'  # your model will be saved here\n",
        "}"
      ],
      "execution_count": 59,
      "outputs": []
    },
    {
      "cell_type": "markdown",
      "metadata": {
        "id": "6j1eOV3TOH-j"
      },
      "source": [
        "# **Load data and model**"
      ]
    },
    {
      "cell_type": "code",
      "metadata": {
        "colab": {
          "base_uri": "https://localhost:8080/"
        },
        "id": "eNrYBMmePLKm",
        "outputId": "9132bb27-0123-4eda-93b1-d836c2d4187d"
      },
      "source": [
        "tr_set = prep_dataloader(tr_path, 'train', config['batch_size'], target_only=target_only)\n",
        "dv_set = prep_dataloader(tr_path, 'dev', config['batch_size'], target_only=target_only)\n",
        "tt_set = prep_dataloader(tt_path, 'test', config['batch_size'], target_only=target_only)\n",
        "print(tr_set.dataset.dim)"
      ],
      "execution_count": 63,
      "outputs": [
        {
          "output_type": "stream",
          "name": "stdout",
          "text": [
            "tensor([[ 1.0000,  0.0000,  0.0000,  ...,  0.0000,  0.5052,  0.5694],\n",
            "        [ 1.0000,  0.0000,  0.0000,  ...,  0.0000,  0.5776,  0.6465],\n",
            "        [ 1.0000,  0.0000,  0.0000,  ...,  0.0000,  0.6546,  0.6299],\n",
            "        ...,\n",
            "        [ 0.0000,  0.0000,  0.0000,  ...,  1.0000, -0.4301, -0.4772],\n",
            "        [ 0.0000,  0.0000,  0.0000,  ...,  1.0000, -0.4672, -0.4919],\n",
            "        [ 0.0000,  0.0000,  0.0000,  ...,  1.0000, -0.4819, -0.5098]])\n",
            "Finished reading the train set of COVID19 Dataset (2430 samples found, each dim = 42)\n",
            "tensor([[ 1.0000,  0.0000,  0.0000,  ...,  0.0000,  0.4207,  0.4900],\n",
            "        [ 1.0000,  0.0000,  0.0000,  ...,  0.0000, -0.4307, -0.1581],\n",
            "        [ 1.0000,  0.0000,  0.0000,  ...,  0.0000, -0.0998,  0.0024],\n",
            "        ...,\n",
            "        [ 0.0000,  0.0000,  0.0000,  ...,  1.0000, -0.3629, -0.3472],\n",
            "        [ 0.0000,  0.0000,  0.0000,  ...,  1.0000, -0.0105, -0.0608],\n",
            "        [ 0.0000,  0.0000,  0.0000,  ...,  1.0000, -0.1645, -0.1789]])\n",
            "Finished reading the dev set of COVID19 Dataset (270 samples found, each dim = 42)\n",
            "tensor([[ 0.0000,  0.0000,  0.0000,  ...,  0.0000,  0.7780,  0.6473],\n",
            "        [ 0.0000,  0.0000,  0.0000,  ...,  0.0000, -1.7463, -1.7951],\n",
            "        [ 0.0000,  0.0000,  0.0000,  ...,  0.0000, -1.8324, -1.7755],\n",
            "        ...,\n",
            "        [ 0.0000,  0.0000,  0.0000,  ...,  0.0000,  2.0277,  2.0355],\n",
            "        [ 0.0000,  0.0000,  0.0000,  ...,  0.0000,  1.6576,  1.3288],\n",
            "        [ 0.0000,  0.0000,  0.0000,  ...,  1.0000,  0.1085,  0.2183]])\n",
            "Finished reading the test set of COVID19 Dataset (893 samples found, each dim = 42)\n",
            "42\n"
          ]
        }
      ]
    },
    {
      "cell_type": "code",
      "metadata": {
        "id": "FHylSirLP9oh"
      },
      "source": [
        "model = NeuralNet(tr_set.dataset.dim).to(device)  # Construct model and move to device"
      ],
      "execution_count": 64,
      "outputs": []
    },
    {
      "cell_type": "markdown",
      "metadata": {
        "id": "sX2B_zgSOPTJ"
      },
      "source": [
        "# **Start Training!**"
      ]
    },
    {
      "cell_type": "code",
      "metadata": {
        "colab": {
          "base_uri": "https://localhost:8080/"
        },
        "id": "GrEbUxazQAAZ",
        "outputId": "ef351fb7-40b6-4528-8494-9697d40fddb5"
      },
      "source": [
        "model_loss, model_loss_record = train(tr_set, dv_set, model, config, device)"
      ],
      "execution_count": 65,
      "outputs": [
        {
          "output_type": "stream",
          "name": "stdout",
          "text": [
            "Saving model (epoch =    1, loss = 320.7854)\n",
            "Saving model (epoch =    2, loss = 312.0271)\n",
            "Saving model (epoch =    3, loss = 300.1871)\n",
            "Saving model (epoch =    4, loss = 284.3862)\n",
            "Saving model (epoch =    5, loss = 264.5292)\n",
            "Saving model (epoch =    6, loss = 240.7893)\n",
            "Saving model (epoch =    7, loss = 214.2740)\n",
            "Saving model (epoch =    8, loss = 185.7978)\n",
            "Saving model (epoch =    9, loss = 156.8711)\n",
            "Saving model (epoch =   10, loss = 128.2480)\n",
            "Saving model (epoch =   11, loss = 100.8968)\n",
            "Saving model (epoch =   12, loss = 76.3424)\n",
            "Saving model (epoch =   13, loss = 55.3913)\n",
            "Saving model (epoch =   14, loss = 38.8000)\n",
            "Saving model (epoch =   15, loss = 26.1247)\n",
            "Saving model (epoch =   16, loss = 17.1619)\n",
            "Saving model (epoch =   17, loss = 11.3010)\n",
            "Saving model (epoch =   18, loss = 7.7162)\n",
            "Saving model (epoch =   19, loss = 5.6267)\n",
            "Saving model (epoch =   20, loss = 4.3984)\n",
            "Saving model (epoch =   21, loss = 3.6909)\n",
            "Saving model (epoch =   22, loss = 3.2361)\n",
            "Saving model (epoch =   23, loss = 2.9241)\n",
            "Saving model (epoch =   24, loss = 2.7060)\n",
            "Saving model (epoch =   25, loss = 2.5311)\n",
            "Saving model (epoch =   26, loss = 2.3969)\n",
            "Saving model (epoch =   27, loss = 2.2834)\n",
            "Saving model (epoch =   28, loss = 2.1838)\n",
            "Saving model (epoch =   29, loss = 2.0955)\n",
            "Saving model (epoch =   30, loss = 2.0217)\n",
            "Saving model (epoch =   31, loss = 1.9571)\n",
            "Saving model (epoch =   32, loss = 1.8983)\n",
            "Saving model (epoch =   33, loss = 1.8488)\n",
            "Saving model (epoch =   34, loss = 1.8048)\n",
            "Saving model (epoch =   35, loss = 1.7621)\n",
            "Saving model (epoch =   36, loss = 1.7249)\n",
            "Saving model (epoch =   37, loss = 1.6959)\n",
            "Saving model (epoch =   38, loss = 1.6679)\n",
            "Saving model (epoch =   39, loss = 1.6387)\n",
            "Saving model (epoch =   40, loss = 1.6163)\n",
            "Saving model (epoch =   41, loss = 1.5953)\n",
            "Saving model (epoch =   42, loss = 1.5738)\n",
            "Saving model (epoch =   43, loss = 1.5570)\n",
            "Saving model (epoch =   44, loss = 1.5390)\n",
            "Saving model (epoch =   45, loss = 1.5223)\n",
            "Saving model (epoch =   46, loss = 1.5075)\n",
            "Saving model (epoch =   47, loss = 1.4969)\n",
            "Saving model (epoch =   48, loss = 1.4872)\n",
            "Saving model (epoch =   49, loss = 1.4748)\n",
            "Saving model (epoch =   50, loss = 1.4632)\n",
            "Saving model (epoch =   51, loss = 1.4533)\n",
            "Saving model (epoch =   52, loss = 1.4436)\n",
            "Saving model (epoch =   53, loss = 1.4374)\n",
            "Saving model (epoch =   54, loss = 1.4261)\n",
            "Saving model (epoch =   55, loss = 1.4182)\n",
            "Saving model (epoch =   56, loss = 1.4120)\n",
            "Saving model (epoch =   57, loss = 1.4044)\n",
            "Saving model (epoch =   58, loss = 1.3962)\n",
            "Saving model (epoch =   59, loss = 1.3884)\n",
            "Saving model (epoch =   60, loss = 1.3836)\n",
            "Saving model (epoch =   61, loss = 1.3739)\n",
            "Saving model (epoch =   62, loss = 1.3710)\n",
            "Saving model (epoch =   63, loss = 1.3617)\n",
            "Saving model (epoch =   64, loss = 1.3545)\n",
            "Saving model (epoch =   65, loss = 1.3517)\n",
            "Saving model (epoch =   66, loss = 1.3463)\n",
            "Saving model (epoch =   67, loss = 1.3398)\n",
            "Saving model (epoch =   68, loss = 1.3347)\n",
            "Saving model (epoch =   69, loss = 1.3288)\n",
            "Saving model (epoch =   70, loss = 1.3237)\n",
            "Saving model (epoch =   71, loss = 1.3177)\n",
            "Saving model (epoch =   72, loss = 1.3156)\n",
            "Saving model (epoch =   73, loss = 1.3081)\n",
            "Saving model (epoch =   74, loss = 1.3016)\n",
            "Saving model (epoch =   75, loss = 1.2992)\n",
            "Saving model (epoch =   76, loss = 1.2895)\n",
            "Saving model (epoch =   77, loss = 1.2868)\n",
            "Saving model (epoch =   78, loss = 1.2815)\n",
            "Saving model (epoch =   79, loss = 1.2721)\n",
            "Saving model (epoch =   81, loss = 1.2672)\n",
            "Saving model (epoch =   82, loss = 1.2619)\n",
            "Saving model (epoch =   83, loss = 1.2558)\n",
            "Saving model (epoch =   84, loss = 1.2471)\n",
            "Saving model (epoch =   85, loss = 1.2464)\n",
            "Saving model (epoch =   86, loss = 1.2434)\n",
            "Saving model (epoch =   87, loss = 1.2368)\n",
            "Saving model (epoch =   88, loss = 1.2332)\n",
            "Saving model (epoch =   89, loss = 1.2273)\n",
            "Saving model (epoch =   90, loss = 1.2228)\n",
            "Saving model (epoch =   91, loss = 1.2197)\n",
            "Saving model (epoch =   92, loss = 1.2143)\n",
            "Saving model (epoch =   93, loss = 1.2096)\n",
            "Saving model (epoch =   94, loss = 1.2053)\n",
            "Saving model (epoch =   95, loss = 1.2021)\n",
            "Saving model (epoch =   96, loss = 1.1981)\n",
            "Saving model (epoch =   97, loss = 1.1920)\n",
            "Saving model (epoch =   98, loss = 1.1904)\n",
            "Saving model (epoch =   99, loss = 1.1870)\n",
            "Saving model (epoch =  100, loss = 1.1844)\n",
            "Saving model (epoch =  101, loss = 1.1799)\n",
            "Saving model (epoch =  102, loss = 1.1748)\n",
            "Saving model (epoch =  103, loss = 1.1736)\n",
            "Saving model (epoch =  104, loss = 1.1647)\n",
            "Saving model (epoch =  106, loss = 1.1627)\n",
            "Saving model (epoch =  107, loss = 1.1576)\n",
            "Saving model (epoch =  108, loss = 1.1553)\n",
            "Saving model (epoch =  109, loss = 1.1505)\n",
            "Saving model (epoch =  111, loss = 1.1463)\n",
            "Saving model (epoch =  112, loss = 1.1439)\n",
            "Saving model (epoch =  113, loss = 1.1410)\n",
            "Saving model (epoch =  114, loss = 1.1391)\n",
            "Saving model (epoch =  115, loss = 1.1366)\n",
            "Saving model (epoch =  116, loss = 1.1330)\n",
            "Saving model (epoch =  117, loss = 1.1317)\n",
            "Saving model (epoch =  119, loss = 1.1265)\n",
            "Saving model (epoch =  120, loss = 1.1243)\n",
            "Saving model (epoch =  121, loss = 1.1206)\n",
            "Saving model (epoch =  123, loss = 1.1175)\n",
            "Saving model (epoch =  125, loss = 1.1115)\n",
            "Saving model (epoch =  126, loss = 1.1107)\n",
            "Saving model (epoch =  127, loss = 1.1074)\n",
            "Saving model (epoch =  128, loss = 1.1065)\n",
            "Saving model (epoch =  130, loss = 1.0994)\n",
            "Saving model (epoch =  132, loss = 1.0987)\n",
            "Saving model (epoch =  133, loss = 1.0965)\n",
            "Saving model (epoch =  134, loss = 1.0942)\n",
            "Saving model (epoch =  135, loss = 1.0917)\n",
            "Saving model (epoch =  136, loss = 1.0862)\n",
            "Saving model (epoch =  138, loss = 1.0835)\n",
            "Saving model (epoch =  139, loss = 1.0820)\n",
            "Saving model (epoch =  140, loss = 1.0817)\n",
            "Saving model (epoch =  141, loss = 1.0784)\n",
            "Saving model (epoch =  142, loss = 1.0782)\n",
            "Saving model (epoch =  144, loss = 1.0750)\n",
            "Saving model (epoch =  145, loss = 1.0719)\n",
            "Saving model (epoch =  146, loss = 1.0713)\n",
            "Saving model (epoch =  148, loss = 1.0695)\n",
            "Saving model (epoch =  149, loss = 1.0691)\n",
            "Saving model (epoch =  150, loss = 1.0652)\n",
            "Saving model (epoch =  152, loss = 1.0648)\n",
            "Saving model (epoch =  153, loss = 1.0610)\n",
            "Saving model (epoch =  154, loss = 1.0599)\n",
            "Saving model (epoch =  156, loss = 1.0566)\n",
            "Saving model (epoch =  158, loss = 1.0561)\n",
            "Saving model (epoch =  159, loss = 1.0532)\n",
            "Saving model (epoch =  161, loss = 1.0529)\n",
            "Saving model (epoch =  162, loss = 1.0522)\n",
            "Saving model (epoch =  163, loss = 1.0508)\n",
            "Saving model (epoch =  164, loss = 1.0496)\n",
            "Saving model (epoch =  165, loss = 1.0459)\n",
            "Saving model (epoch =  167, loss = 1.0453)\n",
            "Saving model (epoch =  168, loss = 1.0439)\n",
            "Saving model (epoch =  171, loss = 1.0424)\n",
            "Saving model (epoch =  173, loss = 1.0414)\n",
            "Saving model (epoch =  174, loss = 1.0375)\n",
            "Saving model (epoch =  179, loss = 1.0367)\n",
            "Saving model (epoch =  180, loss = 1.0322)\n",
            "Saving model (epoch =  185, loss = 1.0286)\n",
            "Saving model (epoch =  188, loss = 1.0266)\n",
            "Saving model (epoch =  189, loss = 1.0253)\n",
            "Saving model (epoch =  193, loss = 1.0220)\n",
            "Saving model (epoch =  194, loss = 1.0218)\n",
            "Saving model (epoch =  198, loss = 1.0199)\n",
            "Saving model (epoch =  203, loss = 1.0178)\n",
            "Saving model (epoch =  205, loss = 1.0170)\n",
            "Saving model (epoch =  215, loss = 1.0141)\n",
            "Saving model (epoch =  222, loss = 1.0132)\n",
            "Saving model (epoch =  234, loss = 1.0105)\n",
            "Saving model (epoch =  235, loss = 1.0100)\n",
            "Saving model (epoch =  244, loss = 1.0086)\n",
            "Saving model (epoch =  249, loss = 1.0078)\n",
            "Saving model (epoch =  250, loss = 1.0067)\n",
            "Saving model (epoch =  253, loss = 1.0051)\n",
            "Saving model (epoch =  270, loss = 1.0049)\n",
            "Saving model (epoch =  274, loss = 1.0045)\n",
            "Saving model (epoch =  284, loss = 1.0037)\n",
            "Saving model (epoch =  289, loss = 1.0033)\n",
            "Saving model (epoch =  297, loss = 0.9995)\n",
            "Saving model (epoch =  323, loss = 0.9984)\n",
            "Saving model (epoch =  340, loss = 0.9972)\n",
            "Finished training after 541 epochs\n"
          ]
        }
      ]
    },
    {
      "cell_type": "code",
      "metadata": {
        "colab": {
          "base_uri": "https://localhost:8080/",
          "height": 410
        },
        "id": "hsNO9nnXQBvP",
        "outputId": "c0b3f8ea-1bbf-46ad-c19d-6aefc3e11be5"
      },
      "source": [
        "plot_learning_curve(model_loss_record, title='deep model')"
      ],
      "execution_count": 66,
      "outputs": [
        {
          "output_type": "display_data",
          "data": {
            "text/plain": [
              "<Figure size 600x400 with 1 Axes>"
            ],
            "image/png": "[encoded data removed]"
          },
          "metadata": {}
        }
      ]
    },
    {
      "cell_type": "code",
      "metadata": {
        "colab": {
          "base_uri": "https://localhost:8080/",
          "height": 487
        },
        "id": "3iZTVn5WQFpX",
        "outputId": "a926f55e-41bb-478a-94ac-8ec28d8d0ef3"
      },
      "source": [
        "del model\n",
        "model = NeuralNet(tr_set.dataset.dim).to(device)\n",
        "ckpt = torch.load(config['save_path'], map_location='cpu')  # Load your best model\n",
        "model.load_state_dict(ckpt)\n",
        "plot_pred(dv_set, model, device)  # Show prediction on the validation set"
      ],
      "execution_count": 67,
      "outputs": [
        {
          "output_type": "display_data",
          "data": {
            "text/plain": [
              "<Figure size 500x500 with 1 Axes>"
            ],
            "image/png": "[encoded data removed]"
          },
          "metadata": {}
        }
      ]
    },
    {
      "cell_type": "markdown",
      "metadata": {
        "id": "aQikz3IPiyPf"
      },
      "source": [
        "# **Testing**\n",
        "The predictions of your model on testing set will be stored at `pred.csv`."
      ]
    },
    {
      "cell_type": "code",
      "metadata": {
        "colab": {
          "base_uri": "https://localhost:8080/"
        },
        "id": "O8cTuQjQQOon",
        "outputId": "e69b5435-ac3b-48b7-a29e-2d357bd13d37"
      },
      "source": [
        "def save_pred(preds, file):\n",
        "    ''' Save predictions to specified file '''\n",
        "    print('Saving results to {}'.format(file))\n",
        "    with open(file, 'w') as fp:\n",
        "        writer = csv.writer(fp)\n",
        "        writer.writerow(['id', 'tested_positive'])\n",
        "        for i, p in enumerate(preds):\n",
        "            writer.writerow([i, p])\n",
        "\n",
        "preds = test(tt_set, model, device)  # predict COVID-19 cases with your model\n",
        "save_pred(preds, 'pred.csv')         # save prediction file to pred.csv"
      ],
      "execution_count": 68,
      "outputs": [
        {
          "output_type": "stream",
          "name": "stdout",
          "text": [
            "Saving results to pred.csv\n"
          ]
        }
      ]
    },
    {
      "cell_type": "markdown",
      "metadata": {
        "id": "nfrVxqJanGpE"
      },
      "source": [
        "# **Hints**\n",
        "\n",
        "## **Simple Baseline**\n",
        "* Run sample code\n",
        "\n",
        "## **Medium Baseline**\n",
        "* Feature selection: 40 states + 2 `tested_positive` (`TODO` in dataset)\n",
        "\n",
        "## **Strong Baseline**\n",
        "* Feature selection (what other features are useful?)\n",
        "* DNN architecture (layers? dimension? activation function?)\n",
        "* Training (mini-batch? optimizer? learning rate?)\n",
        "* L2 regularization\n",
        "* There are some mistakes in the sample code, can you find them?"
      ]
    },
    {
      "cell_type": "markdown",
      "metadata": {
        "id": "9tmCwXgpot3t"
      },
      "source": [
        "# **Reference**\n",
        "This code is completely written by Heng-Jui Chang @ NTUEE.  \n",
        "Copying or reusing this code is required to specify the original author.\n",
        "\n",
        "E.g.  \n",
        "Source: Heng-Jui Chang @ NTUEE (https://github.com/ga642381/ML2021-Spring/blob/main/HW01/HW01.ipynb)\n"
      ]
    }
  ]
}